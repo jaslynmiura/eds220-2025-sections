{
 "cells": [
  {
   "cell_type": "markdown",
   "id": "3692dccb",
   "metadata": {},
   "source": [
    "# Yucatan Pennisula Hurricanes\n",
    "### Week 4 - Discussion Section"
   ]
  },
  {
   "cell_type": "markdown",
   "id": "0b9d1c90",
   "metadata": {},
   "source": [
    "# 1. Archive exploration\n",
    "\n",
    "**Description:** This data set explores teh ecological impacts of hurricanes across the Yucatan Pennisula since 1851 to 2000, using computer modeling.\n",
    "\n",
    "**Date of Access:** 10/24/25\n",
    "\n",
    "**Link:** https://portal.edirepository.org/nis/mapbrowse?packageid=knb-lter-hfr.71.23\n",
    "\n",
    "**Citation:**\n",
    "\n",
    "Boose, E. and D. Foster. 2023. Ecological Impacts of Hurricanes Across the Yucatan Peninsula 1851-2000 ver 23. Environmental Data Initiative. https://doi.org/10.6073/pasta/f219113373913f2daf421732e28d3c38 (Accessed 2025-10-24)."
   ]
  },
  {
   "cell_type": "markdown",
   "id": "29dc7f1f",
   "metadata": {},
   "source": [
    "# 2. Data loading and preliminary exploration"
   ]
  },
  {
   "cell_type": "code",
   "execution_count": 3,
   "id": "e25371c1",
   "metadata": {},
   "outputs": [],
   "source": [
    "import pandas as pd"
   ]
  },
  {
   "cell_type": "code",
   "execution_count": 4,
   "id": "3fb84b5a",
   "metadata": {},
   "outputs": [],
   "source": [
    "# Saving dataset url for import.\n",
    "url ='https://pasta.lternet.edu/package/data/eml/knb-lter-hfr/71/23/ab0fe2bf4f3ad850371ccb9c69d78469'\n",
    "\n",
    "hurricane = pd.read_csv(url)"
   ]
  },
  {
   "cell_type": "code",
   "execution_count": 5,
   "id": "0ab864a7",
   "metadata": {},
   "outputs": [
    {
     "data": {
      "application/vnd.microsoft.datawrangler.viewer.v0+json": {
       "columns": [
        {
         "name": "index",
         "rawType": "int64",
         "type": "integer"
        },
        {
         "name": "code",
         "rawType": "object",
         "type": "string"
        },
        {
         "name": "start.date",
         "rawType": "object",
         "type": "string"
        },
        {
         "name": "end.date",
         "rawType": "object",
         "type": "string"
        },
        {
         "name": "number",
         "rawType": "int64",
         "type": "integer"
        },
        {
         "name": "name",
         "rawType": "object",
         "type": "unknown"
        },
        {
         "name": "ss",
         "rawType": "int64",
         "type": "integer"
        },
        {
         "name": "track",
         "rawType": "object",
         "type": "string"
        },
        {
         "name": "rf.max",
         "rawType": "object",
         "type": "string"
        }
       ],
       "ref": "960389c0-2e47-4af6-929d-3a75aebbf8de",
       "rows": [
        [
         "0",
         "Y1852",
         "1852-10-07",
         "1852-10-08",
         "5",
         null,
         "2",
         "O",
         "F1"
        ],
        [
         "1",
         "Y1857",
         "1857-09-28",
         "1857-09-28",
         "4",
         null,
         "2",
         "N",
         "F1"
        ],
        [
         "2",
         "Y1861",
         "1861-08-17",
         "1861-08-17",
         "2",
         null,
         "1",
         "O",
         "Nd"
        ],
        [
         "3",
         "Y1864",
         "1864-08-31",
         "1864-08-31",
         "3",
         null,
         "1",
         "S",
         "F1"
        ],
        [
         "4",
         "Y1865",
         "1865-09-11",
         "1865-09-11",
         "4",
         null,
         "2",
         "O",
         "F1"
        ]
       ],
       "shape": {
        "columns": 8,
        "rows": 5
       }
      },
      "text/html": [
       "<div>\n",
       "<style scoped>\n",
       "    .dataframe tbody tr th:only-of-type {\n",
       "        vertical-align: middle;\n",
       "    }\n",
       "\n",
       "    .dataframe tbody tr th {\n",
       "        vertical-align: top;\n",
       "    }\n",
       "\n",
       "    .dataframe thead th {\n",
       "        text-align: right;\n",
       "    }\n",
       "</style>\n",
       "<table border=\"1\" class=\"dataframe\">\n",
       "  <thead>\n",
       "    <tr style=\"text-align: right;\">\n",
       "      <th></th>\n",
       "      <th>code</th>\n",
       "      <th>start.date</th>\n",
       "      <th>end.date</th>\n",
       "      <th>number</th>\n",
       "      <th>name</th>\n",
       "      <th>ss</th>\n",
       "      <th>track</th>\n",
       "      <th>rf.max</th>\n",
       "    </tr>\n",
       "  </thead>\n",
       "  <tbody>\n",
       "    <tr>\n",
       "      <th>0</th>\n",
       "      <td>Y1852</td>\n",
       "      <td>1852-10-07</td>\n",
       "      <td>1852-10-08</td>\n",
       "      <td>5</td>\n",
       "      <td>NaN</td>\n",
       "      <td>2</td>\n",
       "      <td>O</td>\n",
       "      <td>F1</td>\n",
       "    </tr>\n",
       "    <tr>\n",
       "      <th>1</th>\n",
       "      <td>Y1857</td>\n",
       "      <td>1857-09-28</td>\n",
       "      <td>1857-09-28</td>\n",
       "      <td>4</td>\n",
       "      <td>NaN</td>\n",
       "      <td>2</td>\n",
       "      <td>N</td>\n",
       "      <td>F1</td>\n",
       "    </tr>\n",
       "    <tr>\n",
       "      <th>2</th>\n",
       "      <td>Y1861</td>\n",
       "      <td>1861-08-17</td>\n",
       "      <td>1861-08-17</td>\n",
       "      <td>2</td>\n",
       "      <td>NaN</td>\n",
       "      <td>1</td>\n",
       "      <td>O</td>\n",
       "      <td>Nd</td>\n",
       "    </tr>\n",
       "    <tr>\n",
       "      <th>3</th>\n",
       "      <td>Y1864</td>\n",
       "      <td>1864-08-31</td>\n",
       "      <td>1864-08-31</td>\n",
       "      <td>3</td>\n",
       "      <td>NaN</td>\n",
       "      <td>1</td>\n",
       "      <td>S</td>\n",
       "      <td>F1</td>\n",
       "    </tr>\n",
       "    <tr>\n",
       "      <th>4</th>\n",
       "      <td>Y1865</td>\n",
       "      <td>1865-09-11</td>\n",
       "      <td>1865-09-11</td>\n",
       "      <td>4</td>\n",
       "      <td>NaN</td>\n",
       "      <td>2</td>\n",
       "      <td>O</td>\n",
       "      <td>F1</td>\n",
       "    </tr>\n",
       "  </tbody>\n",
       "</table>\n",
       "</div>"
      ],
      "text/plain": [
       "    code  start.date    end.date  number name  ss track rf.max\n",
       "0  Y1852  1852-10-07  1852-10-08       5  NaN   2     O     F1\n",
       "1  Y1857  1857-09-28  1857-09-28       4  NaN   2     N     F1\n",
       "2  Y1861  1861-08-17  1861-08-17       2  NaN   1     O     Nd\n",
       "3  Y1864  1864-08-31  1864-08-31       3  NaN   1     S     F1\n",
       "4  Y1865  1865-09-11  1865-09-11       4  NaN   2     O     F1"
      ]
     },
     "execution_count": 5,
     "metadata": {},
     "output_type": "execute_result"
    }
   ],
   "source": [
    "# View the first 5 rows of the hurricane dataset\n",
    "hurricane.head()"
   ]
  },
  {
   "cell_type": "markdown",
   "id": "79094bc6",
   "metadata": {},
   "source": [
    "#### Obtain preliminary information and explore this data frame using pandas methods."
   ]
  },
  {
   "cell_type": "code",
   "execution_count": null,
   "id": "fd545780",
   "metadata": {},
   "outputs": [
    {
     "name": "stdout",
     "output_type": "stream",
     "text": [
      "code           0\n",
      "start.date     0\n",
      "end.date       0\n",
      "number         0\n",
      "name          72\n",
      "ss             0\n",
      "track          0\n",
      "rf.max         0\n",
      "dtype: int64\n",
      "(105, 8)\n",
      "code          object\n",
      "start.date    object\n",
      "end.date      object\n",
      "number         int64\n",
      "name          object\n",
      "ss             int64\n",
      "track         object\n",
      "rf.max        object\n",
      "dtype: object\n"
     ]
    }
   ],
   "source": [
    "# Preliminary data exploration\n",
    "print(hurricane.isna().sum())\n",
    "print(hurricane.shape)\n",
    "print(hurricane.dtypes)"
   ]
  },
  {
   "cell_type": "markdown",
   "id": "a04bf4a5",
   "metadata": {},
   "source": [
    "# 3. Brainstorm\n",
    "In this session we want to answer the following question:\n",
    "\n",
    "#### How many hurricanes with Saffir-Simpson category 5 have been registered and what was their duration?"
   ]
  },
  {
   "cell_type": "markdown",
   "id": "a343b753",
   "metadata": {},
   "source": [
    "##### a. Individually, write down step-by-step instructions on how you would wrangle the df data frame to answer the question. Do not code anything yet. Remember: It’s okay if you don’t know how to code each step. The important thing is to have an idea of what you’d like to do."
   ]
  },
  {
   "cell_type": "markdown",
   "id": "44fc2697",
   "metadata": {},
   "source": []
  }
 ],
 "metadata": {
  "kernelspec": {
   "display_name": "EDS220",
   "language": "python",
   "name": "eds220-env"
  },
  "language_info": {
   "codemirror_mode": {
    "name": "ipython",
    "version": 3
   },
   "file_extension": ".py",
   "mimetype": "text/x-python",
   "name": "python",
   "nbconvert_exporter": "python",
   "pygments_lexer": "ipython3",
   "version": "3.11.4"
  }
 },
 "nbformat": 4,
 "nbformat_minor": 5
}

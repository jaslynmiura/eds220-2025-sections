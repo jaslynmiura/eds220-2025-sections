{
 "cells": [
  {
   "cell_type": "markdown",
   "id": "93340bdb",
   "metadata": {},
   "source": [
    "# 1. Archive exploration\n",
    "Description: This data set explores teh ecological impacts of hurricanes across the Yucatan Pennisula since 1851 to 2000, using computer modeling.\n",
    "\n",
    "Date of Access: 10/24/25\n",
    "\n",
    "Link: https://portal.edirepository.org/nis/mapbrowse?packageid=knb-lter-hfr.71.23\n",
    "\n",
    "Citation:\n",
    "\n",
    "Boose, E. and D. Foster. 2023. Ecological Impacts of Hurricanes Across the Yucatan Peninsula 1851-2000 ver 23. Environmental Data Initiative. https://doi.org/10.6073/pasta/f219113373913f2daf421732e28d3c38 (Accessed 2025-10-24)."
   ]
  },
  {
   "cell_type": "markdown",
   "id": "e67510ee",
   "metadata": {},
   "source": [
    "# 2. Data loading and preliminary exploration"
   ]
  },
  {
   "cell_type": "code",
   "execution_count": null,
   "id": "ba5d9988",
   "metadata": {},
   "outputs": [],
   "source": [
    "import pandas as pd"
   ]
  },
  {
   "cell_type": "code",
   "execution_count": null,
   "id": "7bb11009",
   "metadata": {},
   "outputs": [],
   "source": [
    "# Saving dataset url for import.\n",
    "url ='https://pasta.lternet.edu/package/data/eml/knb-lter-hfr/71/23/ab0fe2bf4f3ad850371ccb9c69d78469'\n",
    "\n",
    "hurricane = pd.read_csv(url)"
   ]
  },
  {
   "cell_type": "code",
   "execution_count": null,
   "id": "729978a1",
   "metadata": {},
   "outputs": [],
   "source": [
    "# View the first 5 rows of the hurricane dataset\n",
    "hurricane.head()"
   ]
  },
  {
   "cell_type": "markdown",
   "id": "561ccb1c",
   "metadata": {},
   "source": [
    "#### Obtain preliminary information and explore this data frame using pandas methods."
   ]
  },
  {
   "cell_type": "code",
   "execution_count": 1,
   "id": "0c0329c3",
   "metadata": {},
   "outputs": [
    {
     "ename": "NameError",
     "evalue": "name 'hurricane' is not defined",
     "output_type": "error",
     "traceback": [
      "\u001b[0;31m---------------------------------------------------------------------------\u001b[0m",
      "\u001b[0;31mNameError\u001b[0m                                 Traceback (most recent call last)",
      "Cell \u001b[0;32mIn[1], line 2\u001b[0m\n\u001b[1;32m      1\u001b[0m \u001b[38;5;66;03m# Preliminary data exploration\u001b[39;00m\n\u001b[0;32m----> 2\u001b[0m \u001b[38;5;28mprint\u001b[39m(\u001b[43mhurricane\u001b[49m\u001b[38;5;241m.\u001b[39misna()\u001b[38;5;241m.\u001b[39msum())\n\u001b[1;32m      3\u001b[0m \u001b[38;5;28mprint\u001b[39m(hurricane\u001b[38;5;241m.\u001b[39mshape)\n\u001b[1;32m      4\u001b[0m \u001b[38;5;28mprint\u001b[39m(hurricane\u001b[38;5;241m.\u001b[39mdtypes)\n",
      "\u001b[0;31mNameError\u001b[0m: name 'hurricane' is not defined"
     ]
    }
   ],
   "source": [
    "# Preliminary data exploration\n",
    "print(hurricane.isna().sum())\n",
    "print(hurricane.shape)\n",
    "print(hurricane.dtypes)"
   ]
  },
  {
   "cell_type": "markdown",
   "id": "e82ee9d9",
   "metadata": {},
   "source": [
    "# 3. Brainstorm\n",
    "In this session we want to answer the following question:\n",
    "\n",
    "*How many hurricanes with Saffir-Simpson category 5 have been registered and what was their duration?*\n",
    "\n",
    "a. Individually, write down step-by-step instructions on how you would wrangle the df data frame to answer the question. Do not code anything yet. Remember: It’s okay if you don’t know how to code each step. The important thing is to have an idea of what you’d like to do."
   ]
  },
  {
   "cell_type": "markdown",
   "id": "d29a3d52",
   "metadata": {},
   "source": [
    "1. Filter data frame for just ss = 5 (or groupby ss)\n",
    "\n",
    "2. Count method to see how many (value_counts)\n",
    "\n",
    "3. Make duration column where we do edn.date - start.date (check data type)"
   ]
  },
  {
   "cell_type": "markdown",
   "id": "eef99778",
   "metadata": {},
   "source": [
    "# 4. Data Wrangling"
   ]
  },
  {
   "cell_type": "markdown",
   "id": "b4c7ae53",
   "metadata": {},
   "source": [
    "# Filter for just hurricanes that are category 5 and saving as its own df.\n",
    "cat5 = hurricane[hurricane['ss'] == 5]"
   ]
  },
  {
   "cell_type": "code",
   "execution_count": null,
   "id": "97ec5092",
   "metadata": {},
   "outputs": [],
   "source": [
    "# Counting the number of category 5 hurricanes.\n",
    "# cat5.ss.count()\n",
    "\n",
    "# The better way\n",
    "len(cat5)"
   ]
  },
  {
   "cell_type": "markdown",
   "id": "555449e5",
   "metadata": {},
   "source": [
    "There have been four hurricanes with Saffir-Simpson category 5."
   ]
  },
  {
   "cell_type": "code",
   "execution_count": null,
   "id": "5a39092d",
   "metadata": {},
   "outputs": [],
   "source": [
    "# What is the data type pf the date column\n",
    "cat5['start.date']"
   ]
  },
  {
   "cell_type": "code",
   "execution_count": null,
   "id": "a65aa3df",
   "metadata": {},
   "outputs": [],
   "source": [
    "# Changing date variables to be DateTime objects\n",
    "cat5['start.date'] = pd.to_datetime(cat5['start.date'])\n",
    "cat5['end.date'] = pd.to_datetime(cat5['end.date'])"
   ]
  },
  {
   "cell_type": "code",
   "execution_count": null,
   "id": "7805be58",
   "metadata": {},
   "outputs": [],
   "source": [
    "# Creating a duration column.\n",
    "cat5['duration'] = cat5['end.date'] - cat5['start.date']"
   ]
  },
  {
   "cell_type": "code",
   "execution_count": null,
   "id": "7b1bf608",
   "metadata": {},
   "outputs": [],
   "source": [
    "cat5"
   ]
  },
  {
   "cell_type": "markdown",
   "id": "f68f29c1",
   "metadata": {},
   "source": [
    "**Interpretation:** Most category 5 hurricanes lasted for a day, with on eof the four being less than a day."
   ]
  },
  {
   "cell_type": "markdown",
   "id": "373a0954",
   "metadata": {},
   "source": [
    "# 5. Visualize Saffir-Simpson categories across time"
   ]
  },
  {
   "cell_type": "code",
   "execution_count": null,
   "id": "19a22650",
   "metadata": {},
   "outputs": [],
   "source": [
    "import matplotlib.pyplot as plt"
   ]
  },
  {
   "cell_type": "code",
   "execution_count": null,
   "id": "8a0d97f1",
   "metadata": {},
   "outputs": [],
   "source": [
    "hurricane.loc[:, 'start.date'] = pd.to_datetime(hurricane['start.date'])\n",
    "\n",
    "hurricane['year'] = hurricane['start.date'].dt.year"
   ]
  },
  {
   "cell_type": "code",
   "execution_count": null,
   "id": "01115df5",
   "metadata": {},
   "outputs": [],
   "source": [
    "plot = hurricane.plot(kind='scatter',\n",
    "               x = 'start.date',\n",
    "               y = 'ss',\n",
    "               xlabel = 'Start Date',\n",
    "               ylabel = 'Saffir-Simpson Category',\n",
    "               title='Saffir-Simpson Categories Across Time',\n",
    "               color = 'hotpink').set_yticks([1, 2, 3, 4, 5])"
   ]
  }
 ],
 "metadata": {
  "kernelspec": {
   "display_name": "eds220-env",
   "language": "python",
   "name": "python3"
  },
  "language_info": {
   "codemirror_mode": {
    "name": "ipython",
    "version": 3
   },
   "file_extension": ".py",
   "mimetype": "text/x-python",
   "name": "python",
   "nbconvert_exporter": "python",
   "pygments_lexer": "ipython3",
   "version": "3.11.4"
  }
 },
 "nbformat": 4,
 "nbformat_minor": 5
}

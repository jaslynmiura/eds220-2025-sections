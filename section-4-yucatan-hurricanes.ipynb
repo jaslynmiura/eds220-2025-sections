{
 "cells": [
  {
   "cell_type": "markdown",
   "id": "3692dccb",
   "metadata": {},
   "source": [
    "# Yucatan Pennisula Hurricanes\n",
    "### Week 4 - Discussion Section"
   ]
  },
  {
   "cell_type": "markdown",
   "id": "0b9d1c90",
   "metadata": {},
   "source": [
    "# 1. Archive exploration\n",
    "\n",
    "**Description:** This data set explores teh ecological impacts of hurricanes across the Yucatan Pennisula since 1851 to 2000, using computer modeling.\n",
    "\n",
    "**Date of Access:** 10/24/25\n",
    "\n",
    "**Link:** https://portal.edirepository.org/nis/mapbrowse?packageid=knb-lter-hfr.71.23\n",
    "\n",
    "**Citation:**\n",
    "\n",
    "Boose, E. and D. Foster. 2023. Ecological Impacts of Hurricanes Across the Yucatan Peninsula 1851-2000 ver 23. Environmental Data Initiative. https://doi.org/10.6073/pasta/f219113373913f2daf421732e28d3c38 (Accessed 2025-10-24)."
   ]
  },
  {
   "cell_type": "markdown",
   "id": "29dc7f1f",
   "metadata": {},
   "source": [
    "# 2. Data loading and preliminary exploration"
   ]
  },
  {
   "cell_type": "code",
   "execution_count": 3,
   "id": "e25371c1",
   "metadata": {},
   "outputs": [],
   "source": [
    "import pandas as pd"
   ]
  },
  {
   "cell_type": "code",
   "execution_count": 4,
   "id": "3fb84b5a",
   "metadata": {},
   "outputs": [],
   "source": [
    "# Saving dataset url for import.\n",
    "url ='https://pasta.lternet.edu/package/data/eml/knb-lter-hfr/71/23/ab0fe2bf4f3ad850371ccb9c69d78469'\n",
    "\n",
    "hurricane = pd.read_csv(url)"
   ]
  },
  {
   "cell_type": "code",
   "execution_count": 5,
   "id": "0ab864a7",
   "metadata": {},
   "outputs": [
    {
     "data": {
      "application/vnd.microsoft.datawrangler.viewer.v0+json": {
       "columns": [
        {
         "name": "index",
         "rawType": "int64",
         "type": "integer"
        },
        {
         "name": "code",
         "rawType": "object",
         "type": "string"
        },
        {
         "name": "start.date",
         "rawType": "object",
         "type": "string"
        },
        {
         "name": "end.date",
         "rawType": "object",
         "type": "string"
        },
        {
         "name": "number",
         "rawType": "int64",
         "type": "integer"
        },
        {
         "name": "name",
         "rawType": "object",
         "type": "unknown"
        },
        {
         "name": "ss",
         "rawType": "int64",
         "type": "integer"
        },
        {
         "name": "track",
         "rawType": "object",
         "type": "string"
        },
        {
         "name": "rf.max",
         "rawType": "object",
         "type": "string"
        }
       ],
       "ref": "960389c0-2e47-4af6-929d-3a75aebbf8de",
       "rows": [
        [
         "0",
         "Y1852",
         "1852-10-07",
         "1852-10-08",
         "5",
         null,
         "2",
         "O",
         "F1"
        ],
        [
         "1",
         "Y1857",
         "1857-09-28",
         "1857-09-28",
         "4",
         null,
         "2",
         "N",
         "F1"
        ],
        [
         "2",
         "Y1861",
         "1861-08-17",
         "1861-08-17",
         "2",
         null,
         "1",
         "O",
         "Nd"
        ],
        [
         "3",
         "Y1864",
         "1864-08-31",
         "1864-08-31",
         "3",
         null,
         "1",
         "S",
         "F1"
        ],
        [
         "4",
         "Y1865",
         "1865-09-11",
         "1865-09-11",
         "4",
         null,
         "2",
         "O",
         "F1"
        ]
       ],
       "shape": {
        "columns": 8,
        "rows": 5
       }
      },
      "text/html": [
       "<div>\n",
       "<style scoped>\n",
       "    .dataframe tbody tr th:only-of-type {\n",
       "        vertical-align: middle;\n",
       "    }\n",
       "\n",
       "    .dataframe tbody tr th {\n",
       "        vertical-align: top;\n",
       "    }\n",
       "\n",
       "    .dataframe thead th {\n",
       "        text-align: right;\n",
       "    }\n",
       "</style>\n",
       "<table border=\"1\" class=\"dataframe\">\n",
       "  <thead>\n",
       "    <tr style=\"text-align: right;\">\n",
       "      <th></th>\n",
       "      <th>code</th>\n",
       "      <th>start.date</th>\n",
       "      <th>end.date</th>\n",
       "      <th>number</th>\n",
       "      <th>name</th>\n",
       "      <th>ss</th>\n",
       "      <th>track</th>\n",
       "      <th>rf.max</th>\n",
       "    </tr>\n",
       "  </thead>\n",
       "  <tbody>\n",
       "    <tr>\n",
       "      <th>0</th>\n",
       "      <td>Y1852</td>\n",
       "      <td>1852-10-07</td>\n",
       "      <td>1852-10-08</td>\n",
       "      <td>5</td>\n",
       "      <td>NaN</td>\n",
       "      <td>2</td>\n",
       "      <td>O</td>\n",
       "      <td>F1</td>\n",
       "    </tr>\n",
       "    <tr>\n",
       "      <th>1</th>\n",
       "      <td>Y1857</td>\n",
       "      <td>1857-09-28</td>\n",
       "      <td>1857-09-28</td>\n",
       "      <td>4</td>\n",
       "      <td>NaN</td>\n",
       "      <td>2</td>\n",
       "      <td>N</td>\n",
       "      <td>F1</td>\n",
       "    </tr>\n",
       "    <tr>\n",
       "      <th>2</th>\n",
       "      <td>Y1861</td>\n",
       "      <td>1861-08-17</td>\n",
       "      <td>1861-08-17</td>\n",
       "      <td>2</td>\n",
       "      <td>NaN</td>\n",
       "      <td>1</td>\n",
       "      <td>O</td>\n",
       "      <td>Nd</td>\n",
       "    </tr>\n",
       "    <tr>\n",
       "      <th>3</th>\n",
       "      <td>Y1864</td>\n",
       "      <td>1864-08-31</td>\n",
       "      <td>1864-08-31</td>\n",
       "      <td>3</td>\n",
       "      <td>NaN</td>\n",
       "      <td>1</td>\n",
       "      <td>S</td>\n",
       "      <td>F1</td>\n",
       "    </tr>\n",
       "    <tr>\n",
       "      <th>4</th>\n",
       "      <td>Y1865</td>\n",
       "      <td>1865-09-11</td>\n",
       "      <td>1865-09-11</td>\n",
       "      <td>4</td>\n",
       "      <td>NaN</td>\n",
       "      <td>2</td>\n",
       "      <td>O</td>\n",
       "      <td>F1</td>\n",
       "    </tr>\n",
       "  </tbody>\n",
       "</table>\n",
       "</div>"
      ],
      "text/plain": [
       "    code  start.date    end.date  number name  ss track rf.max\n",
       "0  Y1852  1852-10-07  1852-10-08       5  NaN   2     O     F1\n",
       "1  Y1857  1857-09-28  1857-09-28       4  NaN   2     N     F1\n",
       "2  Y1861  1861-08-17  1861-08-17       2  NaN   1     O     Nd\n",
       "3  Y1864  1864-08-31  1864-08-31       3  NaN   1     S     F1\n",
       "4  Y1865  1865-09-11  1865-09-11       4  NaN   2     O     F1"
      ]
     },
     "execution_count": 5,
     "metadata": {},
     "output_type": "execute_result"
    }
   ],
   "source": [
    "# View the first 5 rows of the hurricane dataset\n",
    "hurricane.head()"
   ]
  },
  {
   "cell_type": "markdown",
   "id": "79094bc6",
   "metadata": {},
   "source": [
    "#### Obtain preliminary information and explore this data frame using pandas methods."
   ]
  },
  {
   "cell_type": "code",
   "execution_count": null,
   "id": "fd545780",
   "metadata": {},
   "outputs": [
    {
     "name": "stdout",
     "output_type": "stream",
     "text": [
      "code           0\n",
      "start.date     0\n",
      "end.date       0\n",
      "number         0\n",
      "name          72\n",
      "ss             0\n",
      "track          0\n",
      "rf.max         0\n",
      "dtype: int64\n",
      "(105, 8)\n",
      "code          object\n",
      "start.date    object\n",
      "end.date      object\n",
      "number         int64\n",
      "name          object\n",
      "ss             int64\n",
      "track         object\n",
      "rf.max        object\n",
      "dtype: object\n"
     ]
    }
   ],
   "source": [
    "# Preliminary data exploration\n",
    "print(hurricane.isna().sum())\n",
    "print(hurricane.shape)\n",
    "print(hurricane.dtypes)"
   ]
  },
  {
   "cell_type": "markdown",
   "id": "a04bf4a5",
   "metadata": {},
   "source": [
    "# 3. Brainstorm\n",
    "In this session we want to answer the following question:\n",
    "\n",
    "#### How many hurricanes with Saffir-Simpson category 5 have been registered and what was their duration?"
   ]
  },
  {
   "cell_type": "markdown",
   "id": "a343b753",
   "metadata": {},
   "source": [
    "##### a. Individually, write down step-by-step instructions on how you would wrangle the df data frame to answer the question. Do not code anything yet. Remember: It’s okay if you don’t know how to code each step. The important thing is to have an idea of what you’d like to do."
   ]
  },
  {
   "cell_type": "code",
   "execution_count": 9,
   "id": "44fc2697",
   "metadata": {},
   "outputs": [
    {
     "data": {
      "application/vnd.microsoft.datawrangler.viewer.v0+json": {
       "columns": [
        {
         "name": "index",
         "rawType": "int64",
         "type": "integer"
        },
        {
         "name": "code",
         "rawType": "object",
         "type": "string"
        },
        {
         "name": "start.date",
         "rawType": "object",
         "type": "string"
        },
        {
         "name": "end.date",
         "rawType": "object",
         "type": "string"
        },
        {
         "name": "number",
         "rawType": "int64",
         "type": "integer"
        },
        {
         "name": "name",
         "rawType": "object",
         "type": "unknown"
        },
        {
         "name": "ss",
         "rawType": "int64",
         "type": "integer"
        },
        {
         "name": "track",
         "rawType": "object",
         "type": "string"
        },
        {
         "name": "rf.max",
         "rawType": "object",
         "type": "string"
        }
       ],
       "ref": "95734894-feb2-4881-8e5e-3812c90cb6b5",
       "rows": [
        [
         "0",
         "Y1852",
         "1852-10-07",
         "1852-10-08",
         "5",
         null,
         "2",
         "O",
         "F1"
        ],
        [
         "1",
         "Y1857",
         "1857-09-28",
         "1857-09-28",
         "4",
         null,
         "2",
         "N",
         "F1"
        ],
        [
         "2",
         "Y1861",
         "1861-08-17",
         "1861-08-17",
         "2",
         null,
         "1",
         "O",
         "Nd"
        ],
        [
         "3",
         "Y1864",
         "1864-08-31",
         "1864-08-31",
         "3",
         null,
         "1",
         "S",
         "F1"
        ],
        [
         "4",
         "Y1865",
         "1865-09-11",
         "1865-09-11",
         "4",
         null,
         "2",
         "O",
         "F1"
        ]
       ],
       "shape": {
        "columns": 8,
        "rows": 5
       }
      },
      "text/html": [
       "<div>\n",
       "<style scoped>\n",
       "    .dataframe tbody tr th:only-of-type {\n",
       "        vertical-align: middle;\n",
       "    }\n",
       "\n",
       "    .dataframe tbody tr th {\n",
       "        vertical-align: top;\n",
       "    }\n",
       "\n",
       "    .dataframe thead th {\n",
       "        text-align: right;\n",
       "    }\n",
       "</style>\n",
       "<table border=\"1\" class=\"dataframe\">\n",
       "  <thead>\n",
       "    <tr style=\"text-align: right;\">\n",
       "      <th></th>\n",
       "      <th>code</th>\n",
       "      <th>start.date</th>\n",
       "      <th>end.date</th>\n",
       "      <th>number</th>\n",
       "      <th>name</th>\n",
       "      <th>ss</th>\n",
       "      <th>track</th>\n",
       "      <th>rf.max</th>\n",
       "    </tr>\n",
       "  </thead>\n",
       "  <tbody>\n",
       "    <tr>\n",
       "      <th>0</th>\n",
       "      <td>Y1852</td>\n",
       "      <td>1852-10-07</td>\n",
       "      <td>1852-10-08</td>\n",
       "      <td>5</td>\n",
       "      <td>NaN</td>\n",
       "      <td>2</td>\n",
       "      <td>O</td>\n",
       "      <td>F1</td>\n",
       "    </tr>\n",
       "    <tr>\n",
       "      <th>1</th>\n",
       "      <td>Y1857</td>\n",
       "      <td>1857-09-28</td>\n",
       "      <td>1857-09-28</td>\n",
       "      <td>4</td>\n",
       "      <td>NaN</td>\n",
       "      <td>2</td>\n",
       "      <td>N</td>\n",
       "      <td>F1</td>\n",
       "    </tr>\n",
       "    <tr>\n",
       "      <th>2</th>\n",
       "      <td>Y1861</td>\n",
       "      <td>1861-08-17</td>\n",
       "      <td>1861-08-17</td>\n",
       "      <td>2</td>\n",
       "      <td>NaN</td>\n",
       "      <td>1</td>\n",
       "      <td>O</td>\n",
       "      <td>Nd</td>\n",
       "    </tr>\n",
       "    <tr>\n",
       "      <th>3</th>\n",
       "      <td>Y1864</td>\n",
       "      <td>1864-08-31</td>\n",
       "      <td>1864-08-31</td>\n",
       "      <td>3</td>\n",
       "      <td>NaN</td>\n",
       "      <td>1</td>\n",
       "      <td>S</td>\n",
       "      <td>F1</td>\n",
       "    </tr>\n",
       "    <tr>\n",
       "      <th>4</th>\n",
       "      <td>Y1865</td>\n",
       "      <td>1865-09-11</td>\n",
       "      <td>1865-09-11</td>\n",
       "      <td>4</td>\n",
       "      <td>NaN</td>\n",
       "      <td>2</td>\n",
       "      <td>O</td>\n",
       "      <td>F1</td>\n",
       "    </tr>\n",
       "  </tbody>\n",
       "</table>\n",
       "</div>"
      ],
      "text/plain": [
       "    code  start.date    end.date  number name  ss track rf.max\n",
       "0  Y1852  1852-10-07  1852-10-08       5  NaN   2     O     F1\n",
       "1  Y1857  1857-09-28  1857-09-28       4  NaN   2     N     F1\n",
       "2  Y1861  1861-08-17  1861-08-17       2  NaN   1     O     Nd\n",
       "3  Y1864  1864-08-31  1864-08-31       3  NaN   1     S     F1\n",
       "4  Y1865  1865-09-11  1865-09-11       4  NaN   2     O     F1"
      ]
     },
     "execution_count": 9,
     "metadata": {},
     "output_type": "execute_result"
    }
   ],
   "source": [
    "hurricane.head()"
   ]
  },
  {
   "cell_type": "markdown",
   "id": "853d8bbd",
   "metadata": {},
   "source": [
    "1. Filter data frame for just ss = 5 (or groupby ss)\n",
    "2. Count method to see how many (value_counts)\n",
    "3. Make duration column where we do edn.date - start.date (check data type)"
   ]
  },
  {
   "cell_type": "markdown",
   "id": "c03b8552",
   "metadata": {},
   "source": [
    "# 4. Data Wrangling"
   ]
  },
  {
   "cell_type": "code",
   "execution_count": 11,
   "id": "a86d9776",
   "metadata": {},
   "outputs": [],
   "source": [
    "# Filter for just hurricanes that are category 5 and saving as its own df.\n",
    "cat5 = hurricane[hurricane['ss'] == 5]"
   ]
  },
  {
   "cell_type": "code",
   "execution_count": null,
   "id": "5a6325d3",
   "metadata": {},
   "outputs": [
    {
     "data": {
      "text/plain": [
       "4"
      ]
     },
     "execution_count": 12,
     "metadata": {},
     "output_type": "execute_result"
    }
   ],
   "source": [
    "# Counting the number of category 5 hurricanes.\n",
    "cat5.ss.count()\n",
    "\n",
    "# The better way\n",
    "len(cat5)"
   ]
  },
  {
   "cell_type": "markdown",
   "id": "77d6c6f4",
   "metadata": {},
   "source": [
    "There have been four hurricanes with Saffir-Simpson category 5."
   ]
  },
  {
   "cell_type": "code",
   "execution_count": null,
   "id": "1bdad278",
   "metadata": {},
   "outputs": [
    {
     "data": {
      "application/vnd.microsoft.datawrangler.viewer.v0+json": {
       "columns": [
        {
         "name": "index",
         "rawType": "int64",
         "type": "integer"
        },
        {
         "name": "start.date",
         "rawType": "object",
         "type": "string"
        }
       ],
       "ref": "45140abb-a10d-4b3b-a6e4-10049dd82c62",
       "rows": [
        [
         "76",
         "1955-09-28"
        ],
        [
         "96",
         "1980-08-07"
        ],
        [
         "98",
         "1988-09-14"
        ],
        [
         "103",
         "1998-10-27"
        ]
       ],
       "shape": {
        "columns": 1,
        "rows": 4
       }
      },
      "text/plain": [
       "76     1955-09-28\n",
       "96     1980-08-07\n",
       "98     1988-09-14\n",
       "103    1998-10-27\n",
       "Name: start.date, dtype: object"
      ]
     },
     "execution_count": 15,
     "metadata": {},
     "output_type": "execute_result"
    }
   ],
   "source": [
    "# What is the data type pf the date column\n",
    "cat5['start.date']"
   ]
  },
  {
   "cell_type": "code",
   "execution_count": 21,
   "id": "d56053e8",
   "metadata": {},
   "outputs": [
    {
     "name": "stderr",
     "output_type": "stream",
     "text": [
      "/tmp/ipykernel_3286294/2474275701.py:2: SettingWithCopyWarning: \n",
      "A value is trying to be set on a copy of a slice from a DataFrame.\n",
      "Try using .loc[row_indexer,col_indexer] = value instead\n",
      "\n",
      "See the caveats in the documentation: https://pandas.pydata.org/pandas-docs/stable/user_guide/indexing.html#returning-a-view-versus-a-copy\n",
      "  cat5['start.date'] = pd.to_datetime(cat5['start.date'])\n",
      "/tmp/ipykernel_3286294/2474275701.py:3: SettingWithCopyWarning: \n",
      "A value is trying to be set on a copy of a slice from a DataFrame.\n",
      "Try using .loc[row_indexer,col_indexer] = value instead\n",
      "\n",
      "See the caveats in the documentation: https://pandas.pydata.org/pandas-docs/stable/user_guide/indexing.html#returning-a-view-versus-a-copy\n",
      "  cat5['end.date'] = pd.to_datetime(cat5['end.date'])\n"
     ]
    }
   ],
   "source": [
    "# Changing date variables to be DateTime objects\n",
    "cat5['start.date'] = pd.to_datetime(cat5['start.date'])\n",
    "cat5['end.date'] = pd.to_datetime(cat5['end.date'])"
   ]
  },
  {
   "cell_type": "code",
   "execution_count": null,
   "id": "7c3925cc",
   "metadata": {},
   "outputs": [
    {
     "name": "stderr",
     "output_type": "stream",
     "text": [
      "/tmp/ipykernel_3286294/764041551.py:1: SettingWithCopyWarning: \n",
      "A value is trying to be set on a copy of a slice from a DataFrame.\n",
      "Try using .loc[row_indexer,col_indexer] = value instead\n",
      "\n",
      "See the caveats in the documentation: https://pandas.pydata.org/pandas-docs/stable/user_guide/indexing.html#returning-a-view-versus-a-copy\n",
      "  cat5['duration'] = cat5['end.date'] - cat5['start.date']\n"
     ]
    }
   ],
   "source": [
    "# Creating a duration column.\n",
    "cat5['duration'] = cat5['end.date'] - cat5['start.date']"
   ]
  },
  {
   "cell_type": "code",
   "execution_count": 23,
   "id": "2f9cdf65",
   "metadata": {},
   "outputs": [
    {
     "data": {
      "application/vnd.microsoft.datawrangler.viewer.v0+json": {
       "columns": [
        {
         "name": "index",
         "rawType": "int64",
         "type": "integer"
        },
        {
         "name": "code",
         "rawType": "object",
         "type": "string"
        },
        {
         "name": "start.date",
         "rawType": "datetime64[ns]",
         "type": "datetime"
        },
        {
         "name": "end.date",
         "rawType": "datetime64[ns]",
         "type": "datetime"
        },
        {
         "name": "number",
         "rawType": "int64",
         "type": "integer"
        },
        {
         "name": "name",
         "rawType": "object",
         "type": "string"
        },
        {
         "name": "ss",
         "rawType": "int64",
         "type": "integer"
        },
        {
         "name": "track",
         "rawType": "object",
         "type": "string"
        },
        {
         "name": "rf.max",
         "rawType": "object",
         "type": "string"
        },
        {
         "name": "duration",
         "rawType": "timedelta64[ns]",
         "type": "unknown"
        }
       ],
       "ref": "132a779b-bd00-4525-be10-1eeb64005432",
       "rows": [
        [
         "76",
         "Y1955b",
         "1955-09-28 00:00:00",
         "1955-09-28 00:00:00",
         "10",
         "Janet",
         "5",
         "N",
         "F3",
         "0 days 00:00:00"
        ],
        [
         "96",
         "Y1980a",
         "1980-08-07 00:00:00",
         "1980-08-08 00:00:00",
         "1",
         "Allen",
         "5",
         "O",
         "F3",
         "1 days 00:00:00"
        ],
        [
         "98",
         "Y1988",
         "1988-09-14 00:00:00",
         "1988-09-15 00:00:00",
         "8",
         "Gilbert",
         "5",
         "N",
         "F3",
         "1 days 00:00:00"
        ],
        [
         "103",
         "Y1998",
         "1998-10-27 00:00:00",
         "1998-10-28 00:00:00",
         "13",
         "Mitch",
         "5",
         "S",
         "F1",
         "1 days 00:00:00"
        ]
       ],
       "shape": {
        "columns": 9,
        "rows": 4
       }
      },
      "text/html": [
       "<div>\n",
       "<style scoped>\n",
       "    .dataframe tbody tr th:only-of-type {\n",
       "        vertical-align: middle;\n",
       "    }\n",
       "\n",
       "    .dataframe tbody tr th {\n",
       "        vertical-align: top;\n",
       "    }\n",
       "\n",
       "    .dataframe thead th {\n",
       "        text-align: right;\n",
       "    }\n",
       "</style>\n",
       "<table border=\"1\" class=\"dataframe\">\n",
       "  <thead>\n",
       "    <tr style=\"text-align: right;\">\n",
       "      <th></th>\n",
       "      <th>code</th>\n",
       "      <th>start.date</th>\n",
       "      <th>end.date</th>\n",
       "      <th>number</th>\n",
       "      <th>name</th>\n",
       "      <th>ss</th>\n",
       "      <th>track</th>\n",
       "      <th>rf.max</th>\n",
       "      <th>duration</th>\n",
       "    </tr>\n",
       "  </thead>\n",
       "  <tbody>\n",
       "    <tr>\n",
       "      <th>76</th>\n",
       "      <td>Y1955b</td>\n",
       "      <td>1955-09-28</td>\n",
       "      <td>1955-09-28</td>\n",
       "      <td>10</td>\n",
       "      <td>Janet</td>\n",
       "      <td>5</td>\n",
       "      <td>N</td>\n",
       "      <td>F3</td>\n",
       "      <td>0 days</td>\n",
       "    </tr>\n",
       "    <tr>\n",
       "      <th>96</th>\n",
       "      <td>Y1980a</td>\n",
       "      <td>1980-08-07</td>\n",
       "      <td>1980-08-08</td>\n",
       "      <td>1</td>\n",
       "      <td>Allen</td>\n",
       "      <td>5</td>\n",
       "      <td>O</td>\n",
       "      <td>F3</td>\n",
       "      <td>1 days</td>\n",
       "    </tr>\n",
       "    <tr>\n",
       "      <th>98</th>\n",
       "      <td>Y1988</td>\n",
       "      <td>1988-09-14</td>\n",
       "      <td>1988-09-15</td>\n",
       "      <td>8</td>\n",
       "      <td>Gilbert</td>\n",
       "      <td>5</td>\n",
       "      <td>N</td>\n",
       "      <td>F3</td>\n",
       "      <td>1 days</td>\n",
       "    </tr>\n",
       "    <tr>\n",
       "      <th>103</th>\n",
       "      <td>Y1998</td>\n",
       "      <td>1998-10-27</td>\n",
       "      <td>1998-10-28</td>\n",
       "      <td>13</td>\n",
       "      <td>Mitch</td>\n",
       "      <td>5</td>\n",
       "      <td>S</td>\n",
       "      <td>F1</td>\n",
       "      <td>1 days</td>\n",
       "    </tr>\n",
       "  </tbody>\n",
       "</table>\n",
       "</div>"
      ],
      "text/plain": [
       "       code start.date   end.date  number     name  ss track rf.max duration\n",
       "76   Y1955b 1955-09-28 1955-09-28      10    Janet   5     N     F3   0 days\n",
       "96   Y1980a 1980-08-07 1980-08-08       1    Allen   5     O     F3   1 days\n",
       "98    Y1988 1988-09-14 1988-09-15       8  Gilbert   5     N     F3   1 days\n",
       "103   Y1998 1998-10-27 1998-10-28      13    Mitch   5     S     F1   1 days"
      ]
     },
     "execution_count": 23,
     "metadata": {},
     "output_type": "execute_result"
    }
   ],
   "source": [
    "cat5"
   ]
  },
  {
   "cell_type": "markdown",
   "id": "8fc9859a",
   "metadata": {},
   "source": [
    "**Interpretation:** Most category 5 hurricanes lasted for a day, with on eof the four being less than a day."
   ]
  },
  {
   "cell_type": "markdown",
   "id": "a7680a1a",
   "metadata": {},
   "source": [
    "# 5. Visualize Saffir-Simpson categories across time"
   ]
  },
  {
   "cell_type": "code",
   "execution_count": 52,
   "id": "cbca5f23",
   "metadata": {},
   "outputs": [],
   "source": [
    "import matplotlib.pyplot as plt"
   ]
  },
  {
   "cell_type": "code",
   "execution_count": 44,
   "id": "5a761dfc",
   "metadata": {},
   "outputs": [],
   "source": [
    "hurricane.loc[:, 'start.date'] = pd.to_datetime(hurricane['start.date'])\n",
    "\n",
    "hurricane['year'] = hurricane['start.date'].dt.year\n"
   ]
  },
  {
   "cell_type": "code",
   "execution_count": 46,
   "id": "35e7346a",
   "metadata": {},
   "outputs": [
    {
     "data": {
      "image/png": "[encoded data removed]",
      "text/plain": [
       "<Figure size 640x480 with 1 Axes>"
      ]
     },
     "metadata": {},
     "output_type": "display_data"
    }
   ],
   "source": [
    "plot = hurricane.plot(kind='scatter',\n",
    "               x = 'start.date',\n",
    "               y = 'ss',\n",
    "               xlabel = 'Start Date',\n",
    "               ylabel = 'Saffir-Simpson Category',\n",
    "               title='Saffir-Simpson Categories Across Time',\n",
    "               color = 'hotpink').set_yticks([1, 2, 3, 4, 5])"
   ]
  },
  {
   "cell_type": "code",
   "execution_count": 56,
   "id": "1b7133fa",
   "metadata": {},
   "outputs": [
    {
     "data": {
      "text/plain": [
       "Text(0, 0.5, 'Hurricane Category')"
      ]
     },
     "execution_count": 56,
     "metadata": {},
     "output_type": "execute_result"
    },
    {
     "data": {
      "image/png": "[encoded data removed]",
      "text/plain": [
       "<Figure size 640x480 with 1 Axes>"
      ]
     },
     "metadata": {},
     "output_type": "display_data"
    }
   ],
   "source": [
    "# fig, ax = plt.subplots(figsize = (12, 5))\n",
    "\n",
    "plt.scatter(hurricane['start.date'], hurricane['ss'],\n",
    "            c = '#3492eb')\n",
    "\n",
    "plt.yticks([1, 2, 3, 4, 5])\n",
    "\n",
    "plt.xlabel('Start Date')\n",
    "plt.ylabel('Hurricane Category')"
   ]
  },
  {
   "cell_type": "code",
   "execution_count": null,
   "id": "d430b1b7",
   "metadata": {},
   "outputs": [],
   "source": []
  }
 ],
 "metadata": {
  "kernelspec": {
   "display_name": "EDS220",
   "language": "python",
   "name": "eds220-env"
  },
  "language_info": {
   "codemirror_mode": {
    "name": "ipython",
    "version": 3
   },
   "file_extension": ".py",
   "mimetype": "text/x-python",
   "name": "python",
   "nbconvert_exporter": "python",
   "pygments_lexer": "ipython3",
   "version": "3.11.4"
  }
 },
 "nbformat": 4,
 "nbformat_minor": 5
}

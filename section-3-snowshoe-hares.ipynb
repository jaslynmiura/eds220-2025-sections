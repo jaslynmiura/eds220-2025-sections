{
 "cells": [
  {
   "cell_type": "markdown",
   "id": "78d3a3ed",
   "metadata": {},
   "source": [
    "# 1. Archive exploration\n",
    "\n",
    "i. What is this data about?: Snowshoe ahres in the Tanana valley of Alaska.\n",
    "\n",
    "ii. During what time frame were the observations in the dataset collected?: 1999 - 2002\n",
    "\n",
    "iii. Does the dataset contain sensitive data?: No.\n",
    "\n",
    "iv. Is there a publication associated with this dataset?:\n",
    "\n",
    "**Description**: The data set contains capture-recapture date of the keystone prey species, Snowshoe hares. This data was collected in the Tanana valley, from To in the east to Clear in the west to understand population fluctuations and gather quantitative data of population densities in Alaska.\n",
    "\n",
    "**Citation**: \n",
    "\n",
    "Kielland, K., F.S. Chapin, R.W. Ruess, and Bonanza Creek LTER. 2017. Snowshoe hare physical data in Bonanza Creek Experimental Forest: 1999-Present ver 22. Environmental Data Initiative. https://doi.org/10.6073/pasta/03dce4856d79b91557d8e6ce2cbcdc14 (Accessed 2025-10-17).\n",
    "\n",
    "**Date of access**: October 16, 2025\n",
    "\n",
    "**Link**: https://portal.edirepository.org/nis/mapbrowse?packageid=knb-lter-bnz.55.22\n",
    "\n",
    "\n",
    "![Photograph by Alan Schmierer](https://upload.wikimedia.org/wikipedia/commons/thumb/8/8a/SNOWSHOE_HARE_%28Lepus_americanus%29_%285-28-2015%29_quoddy_head%2C_washington_co%2C_maine_-01_%2818988734889%29.jpg/1452px-SNOWSHOE_HARE_%28Lepus_americanus%29_%285-28-2015%29_quoddy_head%2C_washington_co%2C_maine_-01_%2818988734889%29.jpg?20170313021652)\n",
    "Photograph by Alan Schmierer\n",
    "\n",
    "No licensing required."
   ]
  },
  {
   "cell_type": "markdown",
   "id": "cc9b2d5f",
   "metadata": {
    "vscode": {
     "languageId": "plaintext"
    }
   },
   "source": [
    "# 3. Data loading and preliminary exploration"
   ]
  },
  {
   "cell_type": "code",
   "execution_count": null,
   "id": "df457dfb",
   "metadata": {
    "vscode": {
     "languageId": "plaintext"
    }
   },
   "outputs": [],
   "source": [
    "hares = pd.read_csv()"
   ]
  },
  {
   "cell_type": "markdown",
   "id": "a7ff8c5e",
   "metadata": {},
   "source": [
    "# 4. Detecting messy values"
   ]
  },
  {
   "cell_type": "markdown",
   "id": "2b25bf61",
   "metadata": {},
   "source": []
  },
  {
   "cell_type": "markdown",
   "id": "257ed3b5",
   "metadata": {},
   "source": [
    "# 5. Brainstorm"
   ]
  },
  {
   "cell_type": "markdown",
   "id": "e95fe28b",
   "metadata": {},
   "source": []
  },
  {
   "cell_type": "markdown",
   "id": "48123fde",
   "metadata": {
    "vscode": {
     "languageId": "plaintext"
    }
   },
   "source": [
    "# 6. Clean values"
   ]
  },
  {
   "cell_type": "markdown",
   "id": "1c305320",
   "metadata": {},
   "source": []
  },
  {
   "cell_type": "markdown",
   "id": "6e049d10",
   "metadata": {},
   "source": [
    "# 7. Calculate mean weight"
   ]
  },
  {
   "cell_type": "markdown",
   "id": "9b264fc5",
   "metadata": {},
   "source": []
  },
  {
   "cell_type": "markdown",
   "id": "29d2febd",
   "metadata": {},
   "source": [
    "# 8. Collect your code and explain your results"
   ]
  },
  {
   "cell_type": "markdown",
   "id": "852335e4",
   "metadata": {},
   "source": []
  }
 ],
 "metadata": {
  "language_info": {
   "name": "python"
  }
 },
 "nbformat": 4,
 "nbformat_minor": 5
}

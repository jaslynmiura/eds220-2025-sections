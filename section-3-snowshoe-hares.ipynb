{
 "cells": [
  {
   "cell_type": "markdown",
   "id": "78d3a3ed",
   "metadata": {},
   "source": [
    "# 1. Archive exploration\n",
    "\n",
    "i. What is this data about?: Snowshoe ahres in the Tanana valley of Alaska.\n",
    "\n",
    "ii. During what time frame were the observations in the dataset collected?: 1999 - 2002\n",
    "\n",
    "iii. Does the dataset contain sensitive data?: No.\n",
    "\n",
    "iv. Is there a publication associated with this dataset?:\n",
    "\n",
    "**Description**: The data set contains capture-recapture date of the keystone prey species, Snowshoe hares. This data was collected in the Tanana valley, from To in the east to Clear in the west to understand population fluctuations and gather quantitative data of population densities in Alaska.\n",
    "\n",
    "**Citation**: \n",
    "\n",
    "Kielland, K., F.S. Chapin, R.W. Ruess, and Bonanza Creek LTER. 2017. Snowshoe hare physical data in Bonanza Creek Experimental Forest: 1999-Present ver 22. Environmental Data Initiative. https://doi.org/10.6073/pasta/03dce4856d79b91557d8e6ce2cbcdc14 (Accessed 2025-10-17).\n",
    "\n",
    "**Date of access**: October 16, 2025\n",
    "\n",
    "**Link**: https://portal.edirepository.org/nis/mapbrowse?packageid=knb-lter-bnz.55.22\n",
    "\n",
    "\n",
    "![Photograph by Alan Schmierer](https://upload.wikimedia.org/wikipedia/commons/thumb/8/8a/SNOWSHOE_HARE_%28Lepus_americanus%29_%285-28-2015%29_quoddy_head%2C_washington_co%2C_maine_-01_%2818988734889%29.jpg/1452px-SNOWSHOE_HARE_%28Lepus_americanus%29_%285-28-2015%29_quoddy_head%2C_washington_co%2C_maine_-01_%2818988734889%29.jpg?20170313021652)\n",
    "Photograph by Alan Schmierer\n",
    "\n",
    "No licensing required."
   ]
  },
  {
   "cell_type": "markdown",
   "id": "cc9b2d5f",
   "metadata": {
    "vscode": {
     "languageId": "plaintext"
    }
   },
   "source": [
    "# 3. Data loading and preliminary exploration"
   ]
  },
  {
   "cell_type": "code",
   "execution_count": 1,
   "id": "df457dfb",
   "metadata": {},
   "outputs": [],
   "source": [
    "import pandas as pd\n",
    "\n",
    "hares = pd.read_csv('https://pasta.lternet.edu/package/data/eml/knb-lter-bnz/55/22/f01f5d71be949b8c700b6ecd1c42c701')"
   ]
  },
  {
   "cell_type": "code",
   "execution_count": 3,
   "id": "17894204",
   "metadata": {},
   "outputs": [
    {
     "data": {
      "text/plain": [
       "(3380, 14)"
      ]
     },
     "execution_count": 3,
     "metadata": {},
     "output_type": "execute_result"
    }
   ],
   "source": [
    "# Using shape() to look at the shape of the dataframe\n",
    "hares.shape"
   ]
  },
  {
   "cell_type": "code",
   "execution_count": null,
   "id": "a18aa072",
   "metadata": {},
   "outputs": [
    {
     "data": {
      "application/vnd.microsoft.datawrangler.viewer.v0+json": {
       "columns": [
        {
         "name": "index",
         "rawType": "object",
         "type": "string"
        },
        {
         "name": "0",
         "rawType": "object",
         "type": "unknown"
        }
       ],
       "ref": "1bd9ccc8-f762-47ad-abd9-8d58aa7a8101",
       "rows": [
        [
         "date",
         "object"
        ],
        [
         "time",
         "object"
        ],
        [
         "grid",
         "object"
        ],
        [
         "trap",
         "object"
        ],
        [
         "l_ear",
         "object"
        ],
        [
         "r_ear",
         "object"
        ],
        [
         "sex",
         "object"
        ],
        [
         "age",
         "object"
        ],
        [
         "weight",
         "float64"
        ],
        [
         "hindft",
         "float64"
        ],
        [
         "notes",
         "object"
        ],
        [
         "b_key",
         "float64"
        ],
        [
         "session_id",
         "int64"
        ],
        [
         "study",
         "object"
        ]
       ],
       "shape": {
        "columns": 1,
        "rows": 14
       }
      },
      "text/plain": [
       "date           object\n",
       "time           object\n",
       "grid           object\n",
       "trap           object\n",
       "l_ear          object\n",
       "r_ear          object\n",
       "sex            object\n",
       "age            object\n",
       "weight        float64\n",
       "hindft        float64\n",
       "notes          object\n",
       "b_key         float64\n",
       "session_id      int64\n",
       "study          object\n",
       "dtype: object"
      ]
     },
     "execution_count": 4,
     "metadata": {},
     "output_type": "execute_result"
    }
   ],
   "source": [
    "# Using dtypes to find the type of data in each column.\n",
    "hares.dtypes"
   ]
  },
  {
   "cell_type": "code",
   "execution_count": 6,
   "id": "4f3b5f36",
   "metadata": {},
   "outputs": [
    {
     "data": {
      "application/vnd.microsoft.datawrangler.viewer.v0+json": {
       "columns": [
        {
         "name": "index",
         "rawType": "object",
         "type": "string"
        },
        {
         "name": "0",
         "rawType": "int64",
         "type": "integer"
        }
       ],
       "ref": "e668f825-7db1-4a93-bda0-04bfe331acf1",
       "rows": [
        [
         "date",
         "0"
        ],
        [
         "time",
         "3116"
        ],
        [
         "grid",
         "0"
        ],
        [
         "trap",
         "12"
        ],
        [
         "l_ear",
         "48"
        ],
        [
         "r_ear",
         "169"
        ],
        [
         "sex",
         "352"
        ],
        [
         "age",
         "2111"
        ],
        [
         "weight",
         "535"
        ],
        [
         "hindft",
         "1747"
        ],
        [
         "notes",
         "3137"
        ],
        [
         "b_key",
         "47"
        ],
        [
         "session_id",
         "0"
        ],
        [
         "study",
         "163"
        ]
       ],
       "shape": {
        "columns": 1,
        "rows": 14
       }
      },
      "text/plain": [
       "date             0\n",
       "time          3116\n",
       "grid             0\n",
       "trap            12\n",
       "l_ear           48\n",
       "r_ear          169\n",
       "sex            352\n",
       "age           2111\n",
       "weight         535\n",
       "hindft        1747\n",
       "notes         3137\n",
       "b_key           47\n",
       "session_id       0\n",
       "study          163\n",
       "dtype: int64"
      ]
     },
     "execution_count": 6,
     "metadata": {},
     "output_type": "execute_result"
    }
   ],
   "source": [
    "# Determining if there are any NA values in the columns.\n",
    "hares.isna().sum()"
   ]
  },
  {
   "cell_type": "code",
   "execution_count": 12,
   "id": "8442cb86",
   "metadata": {},
   "outputs": [
    {
     "data": {
      "application/vnd.microsoft.datawrangler.viewer.v0+json": {
       "columns": [
        {
         "name": "index",
         "rawType": "object",
         "type": "string"
        },
        {
         "name": "weight",
         "rawType": "float64",
         "type": "float"
        },
        {
         "name": "hindft",
         "rawType": "float64",
         "type": "float"
        }
       ],
       "ref": "0c64a162-6b12-4c67-9734-dd9c87d55a20",
       "rows": [
        [
         "count",
         "2845.0",
         "1633.0"
        ],
        [
         "mean",
         "1346.081546572935",
         "130.87262706674832"
        ],
        [
         "std",
         "345.16011240163107",
         "16.155295420274747"
        ],
        [
         "min",
         "0.0",
         "60.0"
        ],
        [
         "25%",
         "1180.0",
         "128.0"
        ],
        [
         "50%",
         "1400.0",
         "135.0"
        ],
        [
         "75%",
         "1580.0",
         "140.0"
        ],
        [
         "max",
         "2365.0",
         "160.0"
        ]
       ],
       "shape": {
        "columns": 2,
        "rows": 8
       }
      },
      "text/html": [
       "<div>\n",
       "<style scoped>\n",
       "    .dataframe tbody tr th:only-of-type {\n",
       "        vertical-align: middle;\n",
       "    }\n",
       "\n",
       "    .dataframe tbody tr th {\n",
       "        vertical-align: top;\n",
       "    }\n",
       "\n",
       "    .dataframe thead th {\n",
       "        text-align: right;\n",
       "    }\n",
       "</style>\n",
       "<table border=\"1\" class=\"dataframe\">\n",
       "  <thead>\n",
       "    <tr style=\"text-align: right;\">\n",
       "      <th></th>\n",
       "      <th>weight</th>\n",
       "      <th>hindft</th>\n",
       "    </tr>\n",
       "  </thead>\n",
       "  <tbody>\n",
       "    <tr>\n",
       "      <th>count</th>\n",
       "      <td>2845.000000</td>\n",
       "      <td>1633.000000</td>\n",
       "    </tr>\n",
       "    <tr>\n",
       "      <th>mean</th>\n",
       "      <td>1346.081547</td>\n",
       "      <td>130.872627</td>\n",
       "    </tr>\n",
       "    <tr>\n",
       "      <th>std</th>\n",
       "      <td>345.160112</td>\n",
       "      <td>16.155295</td>\n",
       "    </tr>\n",
       "    <tr>\n",
       "      <th>min</th>\n",
       "      <td>0.000000</td>\n",
       "      <td>60.000000</td>\n",
       "    </tr>\n",
       "    <tr>\n",
       "      <th>25%</th>\n",
       "      <td>1180.000000</td>\n",
       "      <td>128.000000</td>\n",
       "    </tr>\n",
       "    <tr>\n",
       "      <th>50%</th>\n",
       "      <td>1400.000000</td>\n",
       "      <td>135.000000</td>\n",
       "    </tr>\n",
       "    <tr>\n",
       "      <th>75%</th>\n",
       "      <td>1580.000000</td>\n",
       "      <td>140.000000</td>\n",
       "    </tr>\n",
       "    <tr>\n",
       "      <th>max</th>\n",
       "      <td>2365.000000</td>\n",
       "      <td>160.000000</td>\n",
       "    </tr>\n",
       "  </tbody>\n",
       "</table>\n",
       "</div>"
      ],
      "text/plain": [
       "            weight       hindft\n",
       "count  2845.000000  1633.000000\n",
       "mean   1346.081547   130.872627\n",
       "std     345.160112    16.155295\n",
       "min       0.000000    60.000000\n",
       "25%    1180.000000   128.000000\n",
       "50%    1400.000000   135.000000\n",
       "75%    1580.000000   140.000000\n",
       "max    2365.000000   160.000000"
      ]
     },
     "execution_count": 12,
     "metadata": {},
     "output_type": "execute_result"
    }
   ],
   "source": [
    "hares[['weight', 'hindft']].describe()"
   ]
  },
  {
   "cell_type": "code",
   "execution_count": 14,
   "id": "c2363e11",
   "metadata": {},
   "outputs": [
    {
     "data": {
      "text/plain": [
       "array([nan, 'M', 'F', '?', 'F?', 'M?', 'pf', 'm', 'f', 'f?', 'm?', 'f ',\n",
       "       'm '], dtype=object)"
      ]
     },
     "execution_count": 14,
     "metadata": {},
     "output_type": "execute_result"
    }
   ],
   "source": [
    "hares['sex'].unique()"
   ]
  },
  {
   "cell_type": "code",
   "execution_count": 16,
   "id": "f075e89a",
   "metadata": {},
   "outputs": [
    {
     "data": {
      "text/plain": [
       "array([nan, 'No right ear tag', 'Escapee', 'Mortality', 'Mortality ',\n",
       "       'Old tag lost in L ear',\n",
       "       'Bunny escaped before second ear tag was added',\n",
       "       'Rabbit too bloody, released', 'R Front Foot Injured',\n",
       "       'L Hind Leg Injured',\n",
       "       'Left Front Foot Injured by Mink. Mink Still Around, Not Shy',\n",
       "       'Injured Bunny, Released, No Tags', 'Died after release',\n",
       "       'Dead in trap', 'Dead', 'non-pregnant',\n",
       "       'pregnant (2 peanut sized babies)', 'pregnant', 'Pregnant',\n",
       "       'Pregnant; last collar was chewed off',\n",
       "       '149.074 recapture; collar loose, removed and replaced; non-pregnant',\n",
       "       'previous collar was chewed off',\n",
       "       '149.013 came off/removed; replaced',\n",
       "       '149.033 recapture; collar loose, removed and replaced',\n",
       "       'previous collar fell off',\n",
       "       'collar previously chewed off (put back on the same bunny!)',\n",
       "       'collar broke off, caught in cage', 'dead in trap',\n",
       "       '149.754 recapture; no VHF signal, removed and replaced',\n",
       "       '149.614 recapture; no VHF signal, removed and replaced',\n",
       "       'tick 19',\n",
       "       '149.474 recapture; low battery, removed collar and replaced',\n",
       "       '149.844 recapture; signal very quiet, removed collar and replaced',\n",
       "       'baby', '149.773 recapture; no VHF signal, removed and replaced',\n",
       "       'tick 18',\n",
       "       'removed GPS collar 151.243 (transmitter dead), trapped N of BONRIP grid',\n",
       "       '149.853 recapture; removed collar and replaced',\n",
       "       'ear punch and blood sample taken', 'ear punch taken',\n",
       "       'blood sample taken',\n",
       "       '149.834 recapture; no signal from transmitter, removed collar; ear punch taken',\n",
       "       'GPS collar',\n",
       "       '149.535 recapture; removed due to injury from overtightening',\n",
       "       'removed iButton that was falling off',\n",
       "       '151.243 GPS recapture; removed collar and replaced with VHF collar',\n",
       "       '150.540 GPS recapture; removed collar',\n",
       "       '151.243 GPS recapture; removed collar',\n",
       "       '150.510 GPS recapture; removed collar',\n",
       "       '150.520 GPS recapture off grid; removed GPS collar and replaced with VHF',\n",
       "       '149.334 recapture; no VHF signal, removed collar and replaced',\n",
       "       '149.874 recapture; no VHF signal, removed collar and replaced',\n",
       "       '149.615 recapture; \"kchunk\" VHF signal, removed collar and replaced',\n",
       "       '149.112 recapture; VHF signal strange, removed collar and replaced',\n",
       "       'no tags until 4/18/11', 'tags given today',\n",
       "       'tons of ticks on ears inside and out, as well as top of head, eyes, etc.',\n",
       "       '149.763 recapture; no signal from transmitter, removed and replaced with 149.802; weird ear growth/scab protruding upward from the ear over an inch! Bloody at base',\n",
       "       'yes, captured the same bunny as in 5a!',\n",
       "       '149.723 recapture; removed and replaced with GPS collar 151.273',\n",
       "       '149.844 recapture; removed and replaced with GPS collar 150.510',\n",
       "       '149.802 recapture; removed and replaced with GPS collar 150.520',\n",
       "       '149.744 recapture; removed and replaced with GPS collar 150.530',\n",
       "       '149.814 recapture; removed and replaced with GPS collar 150.540',\n",
       "       'untagged juvenile', 'escaped without replacing collar',\n",
       "       'untagged juvenile dead in trap',\n",
       "       'GPS antenna still attached to zip tie',\n",
       "       '149.723 removed; foot caught in collar',\n",
       "       '149.814 removed; collar too tight', 'New right ear tag',\n",
       "       'No tags given until 11/6/11',\n",
       "       'Trap overturned with lots of digging; hare seems ok',\n",
       "       'RIGHT LEG INJURED IN TRAP', 'DEAD NEAR TRAP', 'DEAD - UNTAGGED ',\n",
       "       'collar 149.373 fell off since last trapping',\n",
       "       'collar fell off since last trapping', 'removed collar in mouth',\n",
       "       'collar fell off sometime before next capture and was found at 3A',\n",
       "       'bunny escaped; has collar', 'mort', 'No right ear tag given.',\n",
       "       'No right ear tag until 9/8/10.',\n",
       "       'left ear tag fell out later, changed to a3132',\n",
       "       'caught two hares in one trap, let both go',\n",
       "       'previously different left ear tag',\n",
       "       'two collars! (also has 149.013)', 'injured in trap, euthanised',\n",
       "       '149.595 recapture; low batteries, removed and replaced',\n",
       "       'batteries ded',\n",
       "       'trap was moved a bit; tar paper off, ground scuffed up',\n",
       "       'no VHF signal, removed collar',\n",
       "       'diggings around cage (probably lynx); eyes watery',\n",
       "       'blood on nose; extremely docile, but sprinted away with plenty of energy',\n",
       "       '149.373 recapture; no VHF signal, removed collar and replaced',\n",
       "       'died in handling, removed collar',\n",
       "       '149.136 recapture; no VHF signal, removed collar and replaced',\n",
       "       '149.434 recapture; no VHF signal, removed collar and replaced',\n",
       "       '149.795 recapture; no VHF signal, removed collar and replaced',\n",
       "       '149.674 recapture; no VHF signal, removed collar and replaced',\n",
       "       'descended testes',\n",
       "       '149.033 recapture; no VHF signal, removed collar and replaced',\n",
       "       '149.413 recapture; no VHF signal, removed collar and replaced',\n",
       "       '149.393 recapture; no VHF signal, removed collar and replaced',\n",
       "       'wrong tag numbers???', 'lethargic, did not hop away',\n",
       "       \"previously a3210/a3211, but both tags must've fallen out because they were put in with a leatherman!\",\n",
       "       'Hare on verge of death, occasional spastic motion with legs, unable to sit upright. Removed collar.',\n",
       "       'Gave birth to 5 leverets in trap (50, 50, 50, 50, 60 g, all dead) and female near death, removed collar.',\n",
       "       'New, untagged hare. Injured right hind foot (possibly by predator overnight). Let go.',\n",
       "       'Juvenile', 'juvenile',\n",
       "       'Removed thinking it was 149.194 that had expired', 'Collared',\n",
       "       'testes descended', \"thought collar was silent, but it wasn't\",\n",
       "       'lots of ticks, fur patchy and mangy looking',\n",
       "       'cut collar, hare near death, died an hour after release'],\n",
       "      dtype=object)"
      ]
     },
     "execution_count": 16,
     "metadata": {},
     "output_type": "execute_result"
    }
   ],
   "source": [
    "hares['notes'].unique()"
   ]
  },
  {
   "cell_type": "code",
   "execution_count": 17,
   "id": "0d404c22",
   "metadata": {},
   "outputs": [
    {
     "data": {
      "text/plain": [
       "array(['1A', '2C', '2D', '2E', '3B', '3D', '4A', '4B', '4C', '4E', '5A',\n",
       "       '5C', '5D', '5E', '10C', '1C', '1E', '2A', '2B', '3C', '3E', '5B',\n",
       "       '6A', '6B', '6C', '7B', '7C', '7E', '8A', '8B', '8E', '9A', '9D',\n",
       "       '1D', '6E', '7D', '8C', '8D', '9B', '3A', '10B', '1B', '7A', '9E',\n",
       "       '4D', '10A', '6D', '9C', '10D', '10E', '10b', '2a', '2b', '2d',\n",
       "       '3b', '4a', '4c', '4e', '5b', '6c', '7a', '7b', '7d', '7e', '8e',\n",
       "       '9a', '1b', '2c', '2e', '3c', '1e', '3e', '5d', '3d', '4d', '7c',\n",
       "       '8c', '10c', '1c', '1d', '9d', '5e', '6a', '8a', '8b', '6b', '10e',\n",
       "       '6e', nan, '4b', '5c', '9c', '10a', '5a', '9b', '9e', '6d', '1a',\n",
       "       '3a', '10d', '8d', '4f', '5f', '3f', '2f', '2g', '5g', '4g', '1g',\n",
       "       '7f', '6f', '6g', '3g', '4c ', '4e ', '1e ', '1b ', '2b ', '6b ',\n",
       "       '2c ', '5c ', '4b '], dtype=object)"
      ]
     },
     "execution_count": 17,
     "metadata": {},
     "output_type": "execute_result"
    }
   ],
   "source": [
    "hares['trap'].unique()"
   ]
  },
  {
   "cell_type": "code",
   "execution_count": 18,
   "id": "fb6d7151",
   "metadata": {},
   "outputs": [
    {
     "data": {
      "text/plain": [
       "array(['Population', 'Collar', nan, 'Metabolic', 'Metabolic/Collar'],\n",
       "      dtype=object)"
      ]
     },
     "execution_count": 18,
     "metadata": {},
     "output_type": "execute_result"
    }
   ],
   "source": [
    "hares['study'].unique()"
   ]
  },
  {
   "cell_type": "markdown",
   "id": "88fcbf5a",
   "metadata": {},
   "source": [
    "**Exploratory question**: Within population studies, how does average weight vary by trap?"
   ]
  },
  {
   "cell_type": "code",
   "execution_count": 28,
   "id": "ba343458",
   "metadata": {},
   "outputs": [
    {
     "data": {
      "application/vnd.microsoft.datawrangler.viewer.v0+json": {
       "columns": [
        {
         "name": "trap",
         "rawType": "object",
         "type": "string"
        },
        {
         "name": "weight",
         "rawType": "float64",
         "type": "float"
        },
        {
         "name": "hindft",
         "rawType": "float64",
         "type": "float"
        },
        {
         "name": "b_key",
         "rawType": "float64",
         "type": "float"
        },
        {
         "name": "session_id",
         "rawType": "float64",
         "type": "float"
        }
       ],
       "ref": "df0b0ab4-5cc4-4d33-8795-30e178522bbd",
       "rows": [
        [
         "7f",
         "1640.0",
         null,
         "734.25",
         "35.75"
        ],
        [
         "5c ",
         "1540.0",
         null,
         "63.0",
         "64.0"
        ],
        [
         "7D",
         "1535.0",
         "125.5",
         "388.77777777777777",
         "64.83333333333333"
        ],
        [
         "4f",
         "1534.1666666666667",
         "142.0",
         "487.125",
         "38.375"
        ],
        [
         "9C",
         "1525.0",
         "131.77777777777777",
         "433.4",
         "69.86666666666666"
        ],
        [
         "10e",
         "1516.5217391304348",
         "137.8181818181818",
         "603.16",
         "72.42307692307692"
        ],
        [
         "10c",
         "1511.5384615384614",
         "136.6",
         "583.2",
         "78.0"
        ],
        [
         "2c ",
         "1510.0",
         "134.0",
         "63.0",
         "64.0"
        ],
        [
         "8E",
         "1502.2222222222222",
         "136.46153846153845",
         "408.4736842105263",
         "62.421052631578945"
        ],
        [
         "10b",
         "1478.888888888889",
         "139.16666666666666",
         "501.5",
         "72.2"
        ],
        [
         "1B",
         "1477.3333333333333",
         "130.41666666666666",
         "480.3888888888889",
         "64.94444444444444"
        ],
        [
         "10a",
         "1476.7857142857142",
         "141.0",
         "538.0625",
         "69.52380952380952"
        ],
        [
         "7b",
         "1473.0",
         "133.44444444444446",
         "476.42857142857144",
         "48.30952380952381"
        ],
        [
         "1a",
         "1454.375",
         "127.125",
         "464.42105263157896",
         "42.421052631578945"
        ],
        [
         "2d",
         "1454.054054054054",
         "138.0",
         "585.5897435897435",
         "43.675"
        ],
        [
         "1D",
         "1451.875",
         "128.16666666666666",
         "457.0",
         "65.88888888888889"
        ],
        [
         "1d",
         "1448.0357142857142",
         "135.66666666666666",
         "637.28125",
         "37.81818181818182"
        ],
        [
         "10C",
         "1442.2222222222222",
         "135.5",
         "297.59375",
         "67.90625"
        ],
        [
         "4A",
         "1441.578947368421",
         "135.53333333333333",
         "462.14285714285717",
         "64.95454545454545"
        ],
        [
         "9D",
         "1437.5",
         "139.5",
         "415.1333333333333",
         "66.33333333333333"
        ],
        [
         "5A",
         "1435.3703703703704",
         "127.85",
         "412.258064516129",
         "65.51612903225806"
        ],
        [
         "6B",
         "1432.4137931034484",
         "126.5",
         "332.48571428571427",
         "67.4"
        ],
        [
         "6C",
         "1426.4814814814815",
         "121.5",
         "382.1333333333333",
         "67.0"
        ],
        [
         "1E",
         "1420.4761904761904",
         "125.10526315789474",
         "440.6",
         "65.2"
        ],
        [
         "6g",
         "1420.0",
         null,
         "671.0",
         "37.0"
        ],
        [
         "5C",
         "1416.7857142857142",
         "117.88888888888889",
         "416.6470588235294",
         "63.94117647058823"
        ],
        [
         "3D",
         "1413.409090909091",
         "138.73684210526315",
         "556.2083333333334",
         "60.666666666666664"
        ],
        [
         "4b",
         "1410.6666666666667",
         "136.57142857142858",
         "488.45714285714286",
         "59.80555555555556"
        ],
        [
         "9E",
         "1404.0",
         "118.2",
         "488.5",
         "67.33333333333333"
        ],
        [
         "10D",
         "1404.0",
         "136.6",
         "376.2",
         "58.6"
        ],
        [
         "6a",
         "1403.6",
         "137.14285714285714",
         "482.61538461538464",
         "66.53846153846153"
        ],
        [
         "8B",
         "1402.3529411764705",
         "132.91666666666666",
         "337.5",
         "66.95"
        ],
        [
         "2e",
         "1400.7777777777778",
         "136.4814814814815",
         "572.6730769230769",
         "31.547169811320753"
        ],
        [
         "4e",
         "1397.8260869565217",
         "135.91666666666666",
         "630.2692307692307",
         "39.96153846153846"
        ],
        [
         "1e",
         "1397.7777777777778",
         "134.2962962962963",
         "606.1320754716982",
         "39.77777777777778"
        ],
        [
         "7a",
         "1397.142857142857",
         "130.875",
         "584.475",
         "50.73170731707317"
        ],
        [
         "6E",
         "1393.3333333333333",
         "127.0",
         "250.95",
         "72.45"
        ],
        [
         "2a",
         "1388.7931034482758",
         "130.92857142857142",
         "566.4571428571429",
         "52.48571428571429"
        ],
        [
         "5B",
         "1388.3333333333333",
         "135.66666666666666",
         "480.3157894736842",
         "61.78947368421053"
        ],
        [
         "5c",
         "1384.8529411764705",
         "136.75",
         "506.44736842105266",
         "40.61538461538461"
        ],
        [
         "4d",
         "1381.6666666666667",
         "133.7058823529412",
         "490.1363636363636",
         "42.31111111111111"
        ],
        [
         "9B",
         "1380.625",
         "126.92307692307692",
         "373.04347826086956",
         "68.75"
        ],
        [
         "5e",
         "1373.888888888889",
         "138.9",
         "535.9",
         "33.06666666666667"
        ],
        [
         "5g",
         "1373.75",
         null,
         "330.5",
         "35.75"
        ],
        [
         "1c",
         "1371.4583333333333",
         "132.23076923076923",
         "553.0188679245283",
         "51.62264150943396"
        ],
        [
         "3d",
         "1371.25",
         "132.95833333333334",
         "582.25",
         "37.12244897959184"
        ],
        [
         "6e",
         "1370.7575757575758",
         "123.7",
         "579.8461538461538",
         "44.53846153846154"
        ],
        [
         "10B",
         "1365.0",
         "127.61111111111111",
         "337.3030303030303",
         "70.0909090909091"
        ],
        [
         "7C",
         "1363.157894736842",
         "130.05882352941177",
         "493.1818181818182",
         "64.04545454545455"
        ],
        [
         "1b",
         "1362.095238095238",
         "133.45454545454547",
         "498.25",
         "47.395833333333336"
        ]
       ],
       "shape": {
        "columns": 4,
        "rows": 121
       }
      },
      "text/html": [
       "<div>\n",
       "<style scoped>\n",
       "    .dataframe tbody tr th:only-of-type {\n",
       "        vertical-align: middle;\n",
       "    }\n",
       "\n",
       "    .dataframe tbody tr th {\n",
       "        vertical-align: top;\n",
       "    }\n",
       "\n",
       "    .dataframe thead th {\n",
       "        text-align: right;\n",
       "    }\n",
       "</style>\n",
       "<table border=\"1\" class=\"dataframe\">\n",
       "  <thead>\n",
       "    <tr style=\"text-align: right;\">\n",
       "      <th></th>\n",
       "      <th>weight</th>\n",
       "      <th>hindft</th>\n",
       "      <th>b_key</th>\n",
       "      <th>session_id</th>\n",
       "    </tr>\n",
       "    <tr>\n",
       "      <th>trap</th>\n",
       "      <th></th>\n",
       "      <th></th>\n",
       "      <th></th>\n",
       "      <th></th>\n",
       "    </tr>\n",
       "  </thead>\n",
       "  <tbody>\n",
       "    <tr>\n",
       "      <th>7f</th>\n",
       "      <td>1640.000000</td>\n",
       "      <td>NaN</td>\n",
       "      <td>734.250000</td>\n",
       "      <td>35.750000</td>\n",
       "    </tr>\n",
       "    <tr>\n",
       "      <th>5c</th>\n",
       "      <td>1540.000000</td>\n",
       "      <td>NaN</td>\n",
       "      <td>63.000000</td>\n",
       "      <td>64.000000</td>\n",
       "    </tr>\n",
       "    <tr>\n",
       "      <th>7D</th>\n",
       "      <td>1535.000000</td>\n",
       "      <td>125.500000</td>\n",
       "      <td>388.777778</td>\n",
       "      <td>64.833333</td>\n",
       "    </tr>\n",
       "    <tr>\n",
       "      <th>4f</th>\n",
       "      <td>1534.166667</td>\n",
       "      <td>142.000000</td>\n",
       "      <td>487.125000</td>\n",
       "      <td>38.375000</td>\n",
       "    </tr>\n",
       "    <tr>\n",
       "      <th>9C</th>\n",
       "      <td>1525.000000</td>\n",
       "      <td>131.777778</td>\n",
       "      <td>433.400000</td>\n",
       "      <td>69.866667</td>\n",
       "    </tr>\n",
       "    <tr>\n",
       "      <th>...</th>\n",
       "      <td>...</td>\n",
       "      <td>...</td>\n",
       "      <td>...</td>\n",
       "      <td>...</td>\n",
       "    </tr>\n",
       "    <tr>\n",
       "      <th>4e</th>\n",
       "      <td>565.000000</td>\n",
       "      <td>90.000000</td>\n",
       "      <td>72.000000</td>\n",
       "      <td>50.000000</td>\n",
       "    </tr>\n",
       "    <tr>\n",
       "      <th>6b</th>\n",
       "      <td>450.000000</td>\n",
       "      <td>96.000000</td>\n",
       "      <td>76.000000</td>\n",
       "      <td>50.000000</td>\n",
       "    </tr>\n",
       "    <tr>\n",
       "      <th>4c</th>\n",
       "      <td>427.500000</td>\n",
       "      <td>87.500000</td>\n",
       "      <td>68.500000</td>\n",
       "      <td>50.000000</td>\n",
       "    </tr>\n",
       "    <tr>\n",
       "      <th>3g</th>\n",
       "      <td>NaN</td>\n",
       "      <td>NaN</td>\n",
       "      <td>975.000000</td>\n",
       "      <td>37.000000</td>\n",
       "    </tr>\n",
       "    <tr>\n",
       "      <th>4b</th>\n",
       "      <td>NaN</td>\n",
       "      <td>NaN</td>\n",
       "      <td>63.000000</td>\n",
       "      <td>64.000000</td>\n",
       "    </tr>\n",
       "  </tbody>\n",
       "</table>\n",
       "<p>121 rows × 4 columns</p>\n",
       "</div>"
      ],
      "text/plain": [
       "           weight      hindft       b_key  session_id\n",
       "trap                                                 \n",
       "7f    1640.000000         NaN  734.250000   35.750000\n",
       "5c    1540.000000         NaN   63.000000   64.000000\n",
       "7D    1535.000000  125.500000  388.777778   64.833333\n",
       "4f    1534.166667  142.000000  487.125000   38.375000\n",
       "9C    1525.000000  131.777778  433.400000   69.866667\n",
       "...           ...         ...         ...         ...\n",
       "4e     565.000000   90.000000   72.000000   50.000000\n",
       "6b     450.000000   96.000000   76.000000   50.000000\n",
       "4c     427.500000   87.500000   68.500000   50.000000\n",
       "3g            NaN         NaN  975.000000   37.000000\n",
       "4b            NaN         NaN   63.000000   64.000000\n",
       "\n",
       "[121 rows x 4 columns]"
      ]
     },
     "execution_count": 28,
     "metadata": {},
     "output_type": "execute_result"
    }
   ],
   "source": [
    "hares_pop = hares[hares['study'] == 'Population']\n",
    "hares_pop_mean_wt = hares_pop.groupby('trap').mean('weight').sort_values('weight', ascending = False)\n",
    "hares_pop_mean_wt"
   ]
  },
  {
   "cell_type": "markdown",
   "id": "a7ff8c5e",
   "metadata": {},
   "source": [
    "# 4. Detecting messy values"
   ]
  },
  {
   "cell_type": "markdown",
   "id": "c7183d37",
   "metadata": {},
   "source": [
    "| Sex         | Description             |\n",
    "| ----------- | -----------             |\n",
    "| m           | male                    |\n",
    "| f           | female                  |\n",
    "| m?          | male not confirmed      |\n",
    "| f?          | female not confirmed    |"
   ]
  },
  {
   "cell_type": "code",
   "execution_count": null,
   "id": "e4ad5923",
   "metadata": {},
   "outputs": [
    {
     "data": {
      "application/vnd.microsoft.datawrangler.viewer.v0+json": {
       "columns": [
        {
         "name": "sex",
         "rawType": "object",
         "type": "string"
        },
        {
         "name": "count",
         "rawType": "int64",
         "type": "integer"
        }
       ],
       "ref": "60c902e1-cbd1-41ea-aa7a-826d9d91e0e4",
       "rows": [
        [
         "f",
         "1721"
        ],
        [
         "m",
         "1249"
        ],
        [
         "f?",
         "13"
        ],
        [
         "m?",
         "4"
        ]
       ],
       "shape": {
        "columns": 1,
        "rows": 4
       }
      },
      "text/plain": [
       "sex\n",
       "f     1721\n",
       "m     1249\n",
       "f?      13\n",
       "m?       4\n",
       "Name: count, dtype: int64"
      ]
     },
     "execution_count": 31,
     "metadata": {},
     "output_type": "execute_result"
    }
   ],
   "source": [
    "hares['sex'].str.lower().str.strip().value_counts().drop(['?', 'pf'])\n",
    "\n",
    "# .str.strip() removes whitespace which was causing repeats in 'sex' values"
   ]
  },
  {
   "cell_type": "markdown",
   "id": "2b25bf61",
   "metadata": {},
   "source": []
  },
  {
   "cell_type": "markdown",
   "id": "257ed3b5",
   "metadata": {},
   "source": [
    "# 5. Brainstorm"
   ]
  },
  {
   "cell_type": "markdown",
   "id": "e95fe28b",
   "metadata": {},
   "source": []
  },
  {
   "cell_type": "markdown",
   "id": "48123fde",
   "metadata": {
    "vscode": {
     "languageId": "plaintext"
    }
   },
   "source": [
    "# 6. Clean values"
   ]
  },
  {
   "cell_type": "markdown",
   "id": "1c305320",
   "metadata": {},
   "source": []
  },
  {
   "cell_type": "markdown",
   "id": "6e049d10",
   "metadata": {},
   "source": [
    "# 7. Calculate mean weight"
   ]
  },
  {
   "cell_type": "markdown",
   "id": "9b264fc5",
   "metadata": {},
   "source": []
  },
  {
   "cell_type": "markdown",
   "id": "29d2febd",
   "metadata": {},
   "source": [
    "# 8. Collect your code and explain your results"
   ]
  },
  {
   "cell_type": "markdown",
   "id": "852335e4",
   "metadata": {},
   "source": []
  }
 ],
 "metadata": {
  "kernelspec": {
   "display_name": "EDS220",
   "language": "python",
   "name": "eds220-env"
  },
  "language_info": {
   "codemirror_mode": {
    "name": "ipython",
    "version": 3
   },
   "file_extension": ".py",
   "mimetype": "text/x-python",
   "name": "python",
   "nbconvert_exporter": "python",
   "pygments_lexer": "ipython3",
   "version": "3.11.4"
  }
 },
 "nbformat": 4,
 "nbformat_minor": 5
}

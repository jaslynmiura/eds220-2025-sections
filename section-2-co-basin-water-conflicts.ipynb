{
 "cells": [
  {
   "cell_type": "markdown",
   "id": "05cfd664",
   "metadata": {},
   "source": [
    "# Archive exploration\n",
    "a. Look through the dataset’s description in the ScienceBase repository. Find the following information:\n",
    "\n",
    "i. Where was the data collected from??\n",
    "\n",
    "ii. During what time frame were the observations in the dataset collected?\n",
    "\n",
    "iii. What was the author’s perceived value of this dataset?\n",
    "\n",
    "b. In a markdown cell, use your answers to the previous questions to add a brief description of the dataset. Briefly discuss anything else that seems relevant to you. Include a citation, date of access, and a link to the archive.\n",
    "\n",
    "c. Take a look at the data’s metadata by clicking on the “View” icon of the Coded Events Colorado River Basin Water Conflict Table Metadata.xml file."
   ]
  },
  {
   "cell_type": "markdown",
   "id": "66de4523",
   "metadata": {},
   "source": []
  }
 ],
 "metadata": {
  "language_info": {
   "name": "python"
  }
 },
 "nbformat": 4,
 "nbformat_minor": 5
}

{
 "cells": [
  {
   "cell_type": "markdown",
   "id": "df36d755-47ad-491e-bc36-d77126ccd5fb",
   "metadata": {},
   "source": [
    "- What is this data about?\n",
    "The data contains information about arthropods in the Southern California drylands, specifically the Bay Area south to the US-Mexico Border. \n",
    "\n",
    "- Is this data collected in-situ by the authors or is it a synthesis of multiple datasets?\n",
    "Synthesis of multiple datasets, data of elevation is retrived from the USGS, GBIF, landcover, and NDVI data come form MODIS and the LPDAAC and Census breau's\n",
    "\n",
    "- During what time frame were the observations in the dataset collected?\n",
    "\n",
    "- Does this dataset come with an associated metadata file?\n",
    "\n",
    "- Does the dataset contain sensitive data?"
   ]
  }
 ],
 "metadata": {
  "kernelspec": {
   "display_name": "EDS220",
   "language": "python",
   "name": "eds220-env"
  },
  "language_info": {
   "codemirror_mode": {
    "name": "ipython",
    "version": 3
   },
   "file_extension": ".py",
   "mimetype": "text/x-python",
   "name": "python",
   "nbconvert_exporter": "python",
   "pygments_lexer": "ipython3",
   "version": "3.11.4"
  }
 },
 "nbformat": 4,
 "nbformat_minor": 5
}
